{
 "cells": [
  {
   "cell_type": "code",
   "execution_count": 64,
   "id": "5b8b1ac3-aa79-4b91-b925-0c4e43a2d048",
   "metadata": {
    "tags": []
   },
   "outputs": [],
   "source": [
    "import matplotlib.pyplot as plt\n",
    "import seaborn as sns\n",
    "import matplotlib.pyplot as plt"
   ]
  },
  {
   "cell_type": "code",
   "execution_count": 65,
   "id": "3c27d478-99bc-4162-9fca-1141a6541f06",
   "metadata": {
    "tags": []
   },
   "outputs": [],
   "source": [
    "import pandas as pd\n",
    "mercy=pd.read_csv('Real estate.csv')"
   ]
  },
  {
   "cell_type": "code",
   "execution_count": 66,
   "id": "817971f9-3bcb-41a9-b27e-06ac738e1d6a",
   "metadata": {
    "tags": []
   },
   "outputs": [
    {
     "data": {
      "text/html": [
       "<div>\n",
       "<style scoped>\n",
       "    .dataframe tbody tr th:only-of-type {\n",
       "        vertical-align: middle;\n",
       "    }\n",
       "\n",
       "    .dataframe tbody tr th {\n",
       "        vertical-align: top;\n",
       "    }\n",
       "\n",
       "    .dataframe thead th {\n",
       "        text-align: right;\n",
       "    }\n",
       "</style>\n",
       "<table border=\"1\" class=\"dataframe\">\n",
       "  <thead>\n",
       "    <tr style=\"text-align: right;\">\n",
       "      <th></th>\n",
       "      <th>No</th>\n",
       "      <th>X1 transaction date</th>\n",
       "      <th>X2 house age</th>\n",
       "      <th>X3 distance to the nearest MRT station</th>\n",
       "      <th>X4 number of convenience stores</th>\n",
       "      <th>X5 latitude</th>\n",
       "      <th>X6 longitude</th>\n",
       "      <th>Y house price of unit area</th>\n",
       "    </tr>\n",
       "  </thead>\n",
       "  <tbody>\n",
       "    <tr>\n",
       "      <th>0</th>\n",
       "      <td>1</td>\n",
       "      <td>2012.917</td>\n",
       "      <td>32.0</td>\n",
       "      <td>84.87882</td>\n",
       "      <td>10</td>\n",
       "      <td>24.98298</td>\n",
       "      <td>121.54024</td>\n",
       "      <td>37.9</td>\n",
       "    </tr>\n",
       "    <tr>\n",
       "      <th>1</th>\n",
       "      <td>2</td>\n",
       "      <td>2012.917</td>\n",
       "      <td>19.5</td>\n",
       "      <td>306.59470</td>\n",
       "      <td>9</td>\n",
       "      <td>24.98034</td>\n",
       "      <td>121.53951</td>\n",
       "      <td>42.2</td>\n",
       "    </tr>\n",
       "    <tr>\n",
       "      <th>2</th>\n",
       "      <td>3</td>\n",
       "      <td>2013.583</td>\n",
       "      <td>13.3</td>\n",
       "      <td>561.98450</td>\n",
       "      <td>5</td>\n",
       "      <td>24.98746</td>\n",
       "      <td>121.54391</td>\n",
       "      <td>47.3</td>\n",
       "    </tr>\n",
       "    <tr>\n",
       "      <th>3</th>\n",
       "      <td>4</td>\n",
       "      <td>2013.500</td>\n",
       "      <td>13.3</td>\n",
       "      <td>561.98450</td>\n",
       "      <td>5</td>\n",
       "      <td>24.98746</td>\n",
       "      <td>121.54391</td>\n",
       "      <td>54.8</td>\n",
       "    </tr>\n",
       "    <tr>\n",
       "      <th>4</th>\n",
       "      <td>5</td>\n",
       "      <td>2012.833</td>\n",
       "      <td>5.0</td>\n",
       "      <td>390.56840</td>\n",
       "      <td>5</td>\n",
       "      <td>24.97937</td>\n",
       "      <td>121.54245</td>\n",
       "      <td>43.1</td>\n",
       "    </tr>\n",
       "    <tr>\n",
       "      <th>...</th>\n",
       "      <td>...</td>\n",
       "      <td>...</td>\n",
       "      <td>...</td>\n",
       "      <td>...</td>\n",
       "      <td>...</td>\n",
       "      <td>...</td>\n",
       "      <td>...</td>\n",
       "      <td>...</td>\n",
       "    </tr>\n",
       "    <tr>\n",
       "      <th>409</th>\n",
       "      <td>410</td>\n",
       "      <td>2013.000</td>\n",
       "      <td>13.7</td>\n",
       "      <td>4082.01500</td>\n",
       "      <td>0</td>\n",
       "      <td>24.94155</td>\n",
       "      <td>121.50381</td>\n",
       "      <td>15.4</td>\n",
       "    </tr>\n",
       "    <tr>\n",
       "      <th>410</th>\n",
       "      <td>411</td>\n",
       "      <td>2012.667</td>\n",
       "      <td>5.6</td>\n",
       "      <td>90.45606</td>\n",
       "      <td>9</td>\n",
       "      <td>24.97433</td>\n",
       "      <td>121.54310</td>\n",
       "      <td>50.0</td>\n",
       "    </tr>\n",
       "    <tr>\n",
       "      <th>411</th>\n",
       "      <td>412</td>\n",
       "      <td>2013.250</td>\n",
       "      <td>18.8</td>\n",
       "      <td>390.96960</td>\n",
       "      <td>7</td>\n",
       "      <td>24.97923</td>\n",
       "      <td>121.53986</td>\n",
       "      <td>40.6</td>\n",
       "    </tr>\n",
       "    <tr>\n",
       "      <th>412</th>\n",
       "      <td>413</td>\n",
       "      <td>2013.000</td>\n",
       "      <td>8.1</td>\n",
       "      <td>104.81010</td>\n",
       "      <td>5</td>\n",
       "      <td>24.96674</td>\n",
       "      <td>121.54067</td>\n",
       "      <td>52.5</td>\n",
       "    </tr>\n",
       "    <tr>\n",
       "      <th>413</th>\n",
       "      <td>414</td>\n",
       "      <td>2013.500</td>\n",
       "      <td>6.5</td>\n",
       "      <td>90.45606</td>\n",
       "      <td>9</td>\n",
       "      <td>24.97433</td>\n",
       "      <td>121.54310</td>\n",
       "      <td>63.9</td>\n",
       "    </tr>\n",
       "  </tbody>\n",
       "</table>\n",
       "<p>414 rows × 8 columns</p>\n",
       "</div>"
      ],
      "text/plain": [
       "      No  X1 transaction date  X2 house age  \\\n",
       "0      1             2012.917          32.0   \n",
       "1      2             2012.917          19.5   \n",
       "2      3             2013.583          13.3   \n",
       "3      4             2013.500          13.3   \n",
       "4      5             2012.833           5.0   \n",
       "..   ...                  ...           ...   \n",
       "409  410             2013.000          13.7   \n",
       "410  411             2012.667           5.6   \n",
       "411  412             2013.250          18.8   \n",
       "412  413             2013.000           8.1   \n",
       "413  414             2013.500           6.5   \n",
       "\n",
       "     X3 distance to the nearest MRT station  X4 number of convenience stores  \\\n",
       "0                                  84.87882                               10   \n",
       "1                                 306.59470                                9   \n",
       "2                                 561.98450                                5   \n",
       "3                                 561.98450                                5   \n",
       "4                                 390.56840                                5   \n",
       "..                                      ...                              ...   \n",
       "409                              4082.01500                                0   \n",
       "410                                90.45606                                9   \n",
       "411                               390.96960                                7   \n",
       "412                               104.81010                                5   \n",
       "413                                90.45606                                9   \n",
       "\n",
       "     X5 latitude  X6 longitude  Y house price of unit area  \n",
       "0       24.98298     121.54024                        37.9  \n",
       "1       24.98034     121.53951                        42.2  \n",
       "2       24.98746     121.54391                        47.3  \n",
       "3       24.98746     121.54391                        54.8  \n",
       "4       24.97937     121.54245                        43.1  \n",
       "..           ...           ...                         ...  \n",
       "409     24.94155     121.50381                        15.4  \n",
       "410     24.97433     121.54310                        50.0  \n",
       "411     24.97923     121.53986                        40.6  \n",
       "412     24.96674     121.54067                        52.5  \n",
       "413     24.97433     121.54310                        63.9  \n",
       "\n",
       "[414 rows x 8 columns]"
      ]
     },
     "execution_count": 66,
     "metadata": {},
     "output_type": "execute_result"
    }
   ],
   "source": [
    "mercy\n"
   ]
  },
  {
   "cell_type": "code",
   "execution_count": 67,
   "id": "ed487e32-a0e3-4ecb-bdbd-ff8122512c48",
   "metadata": {
    "tags": []
   },
   "outputs": [
    {
     "data": {
      "text/plain": [
       "<bound method NDFrame._add_numeric_operations.<locals>.sum of         No  X1 transaction date  X2 house age  \\\n",
       "0    False                False         False   \n",
       "1    False                False         False   \n",
       "2    False                False         False   \n",
       "3    False                False         False   \n",
       "4    False                False         False   \n",
       "..     ...                  ...           ...   \n",
       "409  False                False         False   \n",
       "410  False                False         False   \n",
       "411  False                False         False   \n",
       "412  False                False         False   \n",
       "413  False                False         False   \n",
       "\n",
       "     X3 distance to the nearest MRT station  X4 number of convenience stores  \\\n",
       "0                                     False                            False   \n",
       "1                                     False                            False   \n",
       "2                                     False                            False   \n",
       "3                                     False                            False   \n",
       "4                                     False                            False   \n",
       "..                                      ...                              ...   \n",
       "409                                   False                            False   \n",
       "410                                   False                            False   \n",
       "411                                   False                            False   \n",
       "412                                   False                            False   \n",
       "413                                   False                            False   \n",
       "\n",
       "     X5 latitude  X6 longitude  Y house price of unit area  \n",
       "0          False         False                       False  \n",
       "1          False         False                       False  \n",
       "2          False         False                       False  \n",
       "3          False         False                       False  \n",
       "4          False         False                       False  \n",
       "..           ...           ...                         ...  \n",
       "409        False         False                       False  \n",
       "410        False         False                       False  \n",
       "411        False         False                       False  \n",
       "412        False         False                       False  \n",
       "413        False         False                       False  \n",
       "\n",
       "[414 rows x 8 columns]>"
      ]
     },
     "execution_count": 67,
     "metadata": {},
     "output_type": "execute_result"
    }
   ],
   "source": [
    "mercy.isnull().sum"
   ]
  },
  {
   "cell_type": "code",
   "execution_count": 68,
   "id": "7e2bf98f-6464-4d51-80a7-f7107977ea4d",
   "metadata": {
    "tags": []
   },
   "outputs": [
    {
     "data": {
      "text/plain": [
       "No                                        False\n",
       "X1 transaction date                       False\n",
       "X2 house age                              False\n",
       "X3 distance to the nearest MRT station    False\n",
       "X4 number of convenience stores           False\n",
       "X5 latitude                               False\n",
       "X6 longitude                              False\n",
       "Y house price of unit area                False\n",
       "dtype: bool"
      ]
     },
     "execution_count": 68,
     "metadata": {},
     "output_type": "execute_result"
    }
   ],
   "source": [
    "mercy.isnull().any()"
   ]
  },
  {
   "cell_type": "code",
   "execution_count": 69,
   "id": "2f359026-fbec-481a-98fd-d038bb150641",
   "metadata": {
    "tags": []
   },
   "outputs": [],
   "source": [
    "mse_list = []\n",
    "mae_list = []\n",
    "rmse_list = []"
   ]
  },
  {
   "cell_type": "code",
   "execution_count": 70,
   "id": "e3b600c7-8bb5-4903-89ca-920bf69c7dbf",
   "metadata": {
    "tags": []
   },
   "outputs": [],
   "source": [
    "import pandas as pd\n",
    "from sklearn.model_selection import train_test_split\n",
    "from sklearn.linear_model import LinearRegression\n",
    "from sklearn.metrics import mean_squared_error, mean_absolute_error\n",
    "import numpy as np"
   ]
  },
  {
   "cell_type": "code",
   "execution_count": 71,
   "id": "f5cea110-e3dd-4113-968b-9c8cd932fe23",
   "metadata": {
    "tags": []
   },
   "outputs": [],
   "source": [
    "X = mercy[[\"X2 house age\", \"X3 distance to the nearest MRT station\", \"X4 number of convenience stores\"]]\n",
    "y = mercy[\"Y house price of unit area\"]"
   ]
  },
  {
   "cell_type": "code",
   "execution_count": 72,
   "id": "54299156-eee1-4543-a320-6c046f7c9cf6",
   "metadata": {
    "tags": []
   },
   "outputs": [
    {
     "data": {
      "text/html": [
       "<style>#sk-container-id-4 {color: black;}#sk-container-id-4 pre{padding: 0;}#sk-container-id-4 div.sk-toggleable {background-color: white;}#sk-container-id-4 label.sk-toggleable__label {cursor: pointer;display: block;width: 100%;margin-bottom: 0;padding: 0.3em;box-sizing: border-box;text-align: center;}#sk-container-id-4 label.sk-toggleable__label-arrow:before {content: \"▸\";float: left;margin-right: 0.25em;color: #696969;}#sk-container-id-4 label.sk-toggleable__label-arrow:hover:before {color: black;}#sk-container-id-4 div.sk-estimator:hover label.sk-toggleable__label-arrow:before {color: black;}#sk-container-id-4 div.sk-toggleable__content {max-height: 0;max-width: 0;overflow: hidden;text-align: left;background-color: #f0f8ff;}#sk-container-id-4 div.sk-toggleable__content pre {margin: 0.2em;color: black;border-radius: 0.25em;background-color: #f0f8ff;}#sk-container-id-4 input.sk-toggleable__control:checked~div.sk-toggleable__content {max-height: 200px;max-width: 100%;overflow: auto;}#sk-container-id-4 input.sk-toggleable__control:checked~label.sk-toggleable__label-arrow:before {content: \"▾\";}#sk-container-id-4 div.sk-estimator input.sk-toggleable__control:checked~label.sk-toggleable__label {background-color: #d4ebff;}#sk-container-id-4 div.sk-label input.sk-toggleable__control:checked~label.sk-toggleable__label {background-color: #d4ebff;}#sk-container-id-4 input.sk-hidden--visually {border: 0;clip: rect(1px 1px 1px 1px);clip: rect(1px, 1px, 1px, 1px);height: 1px;margin: -1px;overflow: hidden;padding: 0;position: absolute;width: 1px;}#sk-container-id-4 div.sk-estimator {font-family: monospace;background-color: #f0f8ff;border: 1px dotted black;border-radius: 0.25em;box-sizing: border-box;margin-bottom: 0.5em;}#sk-container-id-4 div.sk-estimator:hover {background-color: #d4ebff;}#sk-container-id-4 div.sk-parallel-item::after {content: \"\";width: 100%;border-bottom: 1px solid gray;flex-grow: 1;}#sk-container-id-4 div.sk-label:hover label.sk-toggleable__label {background-color: #d4ebff;}#sk-container-id-4 div.sk-serial::before {content: \"\";position: absolute;border-left: 1px solid gray;box-sizing: border-box;top: 0;bottom: 0;left: 50%;z-index: 0;}#sk-container-id-4 div.sk-serial {display: flex;flex-direction: column;align-items: center;background-color: white;padding-right: 0.2em;padding-left: 0.2em;position: relative;}#sk-container-id-4 div.sk-item {position: relative;z-index: 1;}#sk-container-id-4 div.sk-parallel {display: flex;align-items: stretch;justify-content: center;background-color: white;position: relative;}#sk-container-id-4 div.sk-item::before, #sk-container-id-4 div.sk-parallel-item::before {content: \"\";position: absolute;border-left: 1px solid gray;box-sizing: border-box;top: 0;bottom: 0;left: 50%;z-index: -1;}#sk-container-id-4 div.sk-parallel-item {display: flex;flex-direction: column;z-index: 1;position: relative;background-color: white;}#sk-container-id-4 div.sk-parallel-item:first-child::after {align-self: flex-end;width: 50%;}#sk-container-id-4 div.sk-parallel-item:last-child::after {align-self: flex-start;width: 50%;}#sk-container-id-4 div.sk-parallel-item:only-child::after {width: 0;}#sk-container-id-4 div.sk-dashed-wrapped {border: 1px dashed gray;margin: 0 0.4em 0.5em 0.4em;box-sizing: border-box;padding-bottom: 0.4em;background-color: white;}#sk-container-id-4 div.sk-label label {font-family: monospace;font-weight: bold;display: inline-block;line-height: 1.2em;}#sk-container-id-4 div.sk-label-container {text-align: center;}#sk-container-id-4 div.sk-container {/* jupyter's `normalize.less` sets `[hidden] { display: none; }` but bootstrap.min.css set `[hidden] { display: none !important; }` so we also need the `!important` here to be able to override the default hidden behavior on the sphinx rendered scikit-learn.org. See: https://github.com/scikit-learn/scikit-learn/issues/21755 */display: inline-block !important;position: relative;}#sk-container-id-4 div.sk-text-repr-fallback {display: none;}</style><div id=\"sk-container-id-4\" class=\"sk-top-container\"><div class=\"sk-text-repr-fallback\"><pre>LinearRegression()</pre><b>In a Jupyter environment, please rerun this cell to show the HTML representation or trust the notebook. <br />On GitHub, the HTML representation is unable to render, please try loading this page with nbviewer.org.</b></div><div class=\"sk-container\" hidden><div class=\"sk-item\"><div class=\"sk-estimator sk-toggleable\"><input class=\"sk-toggleable__control sk-hidden--visually\" id=\"sk-estimator-id-4\" type=\"checkbox\" checked><label for=\"sk-estimator-id-4\" class=\"sk-toggleable__label sk-toggleable__label-arrow\">LinearRegression</label><div class=\"sk-toggleable__content\"><pre>LinearRegression()</pre></div></div></div></div></div>"
      ],
      "text/plain": [
       "LinearRegression()"
      ]
     },
     "execution_count": 72,
     "metadata": {},
     "output_type": "execute_result"
    }
   ],
   "source": [
    "model = LinearRegression()\n",
    "model.fit(X, y)"
   ]
  },
  {
   "cell_type": "code",
   "execution_count": 73,
   "id": "82a05ee4-4c09-4d32-a9be-7f2bbf0653b5",
   "metadata": {
    "tags": []
   },
   "outputs": [
    {
     "name": "stdout",
     "output_type": "stream",
     "text": [
      "Mean Squared Error: 84.76070642266242\n"
     ]
    }
   ],
   "source": [
    "\n",
    "mse = mean_squared_error(y, model.predict(X))\n",
    "print(\"Mean Squared Error:\", mse)"
   ]
  },
  {
   "cell_type": "code",
   "execution_count": 74,
   "id": "dfe2e12d-e783-46f6-83d8-022c1a0b3104",
   "metadata": {
    "tags": []
   },
   "outputs": [
    {
     "name": "stdout",
     "output_type": "stream",
     "text": [
      "Mean Absolute Error: 6.485672172393679\n"
     ]
    }
   ],
   "source": [
    "mae = mean_absolute_error(y, model.predict(X))\n",
    "print(\"Mean Absolute Error:\", mae)"
   ]
  },
  {
   "cell_type": "code",
   "execution_count": 75,
   "id": "42db3867-56f2-444b-aeca-991b4e9ef760",
   "metadata": {
    "tags": []
   },
   "outputs": [
    {
     "name": "stdout",
     "output_type": "stream",
     "text": [
      "Root Mean Squared Error: 9.206557794456211\n"
     ]
    }
   ],
   "source": [
    "rmse = np.sqrt(mse)\n",
    "print(\"Root Mean Squared Error:\", rmse)"
   ]
  },
  {
   "cell_type": "code",
   "execution_count": 76,
   "id": "b6a10bd3-0f16-460c-bcdb-b86c86d19fa7",
   "metadata": {
    "tags": []
   },
   "outputs": [
    {
     "data": {
      "text/plain": [
       "Text(0, 0.5, 'house price of unit area')"
      ]
     },
     "execution_count": 76,
     "metadata": {},
     "output_type": "execute_result"
    },
    {
     "data": {
      "image/png": "[encoded data removed]",
      "text/plain": [
       "<Figure size 640x480 with 1 Axes>"
      ]
     },
     "metadata": {},
     "output_type": "display_data"
    }
   ],
   "source": [
    "x = mercy['X2 house age']\n",
    "y = mercy['Y house price of unit area']\n",
    "plt.scatter(x,y)\n",
    "plt.xlabel(\"house age\")\n",
    "plt.ylabel(\"house price of unit area\")"
   ]
  },
  {
   "cell_type": "code",
   "execution_count": 77,
   "id": "b0581644-db0f-4203-9d1f-0d0a69a909c9",
   "metadata": {
    "tags": []
   },
   "outputs": [],
   "source": [
    "X = mercy['X2 house age']\n",
    "y = mercy['Y house price of unit area']\n",
    "X_train, X_test, y_train, y_test = train_test_split(X, y, test_size=0.2, random_state=42)"
   ]
  },
  {
   "cell_type": "code",
   "execution_count": 78,
   "id": "62e32ddd-3d58-4b57-af91-7afb7d3524ee",
   "metadata": {
    "tags": []
   },
   "outputs": [
    {
     "data": {
      "text/plain": [
       "array([43.8,  8. ,  7.1, 36.6,  7.5, 13.2, 15.2, 16.3, 26.8, 12.5, 13.3,\n",
       "       16.9, 39.2, 11. , 32.8, 18.5,  2.6, 16.2, 34.9, 14.8, 19. ,  4.1,\n",
       "        5.6,  6.2, 18.4, 26.6, 13. , 31.4, 12.7,  9.7,  7.1, 10.3,  0. ,\n",
       "       16.2, 30.6, 21.7, 12.3, 17.2, 16.4,  0. ,  1. , 13. , 20.3, 15.2,\n",
       "        1.5, 13.9, 15. , 20. , 34. ,  2.1, 15.7,  4. , 38.3, 22.8, 37.1,\n",
       "       18.1, 25.3, 27.6, 28.6,  6.8, 29.1, 16.6, 34.8, 29.3,  6.5, 33. ,\n",
       "       16.2,  4.1, 14.7, 12.9, 31.5,  6.6,  0. , 39.8, 13.3, 33.3, 15. ,\n",
       "       36.6, 34.5, 33.2, 30.1, 11.6, 35.8, 34.8, 25.6,  0. , 30.8,  0. ,\n",
       "        0. , 28.2, 10.4,  9.1, 31. , 11.6, 32.4, 23. , 40.9,  8.5,  3.2,\n",
       "       16.4, 20.6, 12.5,  0. ,  6.4, 13.6, 17.1, 28.4, 18. , 30.4, 10.1,\n",
       "       12. , 11.9, 31.5, 11.9, 13.5,  8.5, 33.6,  4.8, 32.6, 16.1, 13.6,\n",
       "        5.2,  1.1,  0. , 13.9,  1.8,  8.1, 37.2,  7.8,  3.5, 10.3,  3.7,\n",
       "       17. , 13.6, 26.4,  7.8, 42.7, 38.5,  3.1,  6.3,  2.3, 31.4,  4.7,\n",
       "        9.9, 14. , 38. , 14.2, 31.3, 13.6,  8. , 19.2, 14.7, 16.7, 39.7,\n",
       "       21.7, 31.5,  0. , 12.2, 11.4, 16.9, 18.2, 34.4,  1.9, 13.3, 27.1,\n",
       "       18. , 20.6, 30.4, 16.9,  3.1, 13.3,  7.1, 34.5, 30. , 21.2,  3.8,\n",
       "        5.7, 12.2, 21.2, 18. , 16.5,  2.7, 14.1, 40.1,  0. ,  2. , 20.9,\n",
       "       15.5, 13. , 13.9, 19.2, 24. , 19.8, 30.9, 35.4,  9. ,  8. , 31.3,\n",
       "       11. , 16.4, 13.3, 13.1, 16.8, 12.9, 22.2,  2. ,  1.1, 16.9,  5. ,\n",
       "       14.6, 15.9, 17.5, 16.5,  4.1,  6.2,  3.6, 16.4, 17.5, 19.2,  5.3,\n",
       "       35.9, 37.9, 34.7, 17.4, 18.2, 10.4, 12.4,  4. , 17. , 16.6, 16. ,\n",
       "        4. , 10. , 17.2, 18.9, 41.3, 31.7, 17.5,  2.5, 13.2, 30.7, 13.6,\n",
       "        0. , 27.3, 37.8,  2.6,  0. ,  3.6, 38.5, 17.6, 18.2,  3.9, 31.7,\n",
       "       16.4, 37.3, 38.3, 17.6, 13.1, 19.2, 34.4, 28. , 35.3, 30.3, 17.7,\n",
       "        0. , 13.3, 19.5, 29.4, 11.8, 12.8, 15.4,  3.9,  9.1,  1.7, 32.1,\n",
       "        0. , 32.6, 13.7, 20.4, 15.6,  8.9, 13.2,  0. , 15.9,  5.2, 33.4,\n",
       "       14.4, 13.1, 34.6, 32.8, 16.1, 32.3, 21.7,  4.3, 16.3, 18.8,  8.9,\n",
       "        8.4, 30.3, 24.2, 34.6, 12.9,  5.9, 10.5,  8.3,  3.5, 19.1, 13.2,\n",
       "       18.3, 12.6, 33.5, 17.3, 16.4, 34.9, 29.6,  4.9,  5.6,  6.4, 33.9,\n",
       "       16.9, 32. , 18.1, 13.6,  6.5,  4.5, 34.8, 35.5, 17.2, 10.8,  4.6,\n",
       "        1.1])"
      ]
     },
     "execution_count": 78,
     "metadata": {},
     "output_type": "execute_result"
    }
   ],
   "source": [
    "X_train = np.array(X_train).reshape(-1,1)\n",
    "X_train.flatten()"
   ]
  },
  {
   "cell_type": "code",
   "execution_count": 79,
   "id": "a485ddd4-bcb6-483e-861a-5c9ee504afb4",
   "metadata": {
    "tags": []
   },
   "outputs": [
    {
     "data": {
      "text/plain": [
       "array([ 1.1, 13.2,  0. , 12.7, 20.2, 32.5, 15.9, 16.2, 31.9,  6.6, 25.3,\n",
       "        4. ,  5.1, 31.7, 38.6, 14.7, 33.6,  3.4, 17.3, 15.1, 30.9, 17.9,\n",
       "        5.4, 13.6, 13.5, 12.7, 16.2,  0. , 40.9, 41.3, 25.9,  5.1, 32.7,\n",
       "       18. , 16.5, 37.7,  5.9, 13.7, 30.6, 41.4, 35.7, 21.3, 32. , 15.6,\n",
       "       13. ,  9.9, 17.7, 14.1,  1.5, 32.9,  1.1,  3.8, 35.3, 27.5, 30.2,\n",
       "       13.8, 36.1, 13.7, 20.5, 16.2,  7.6, 29.3, 13.8, 26.9, 17.4, 17.8,\n",
       "       14.7, 21.7, 38.2, 12. , 13.2, 35.9,  3.5,  8.1, 39.6, 17.7, 12.8,\n",
       "       23. , 29.6, 33.5, 16.1, 15.6, 11.5])"
      ]
     },
     "execution_count": 79,
     "metadata": {},
     "output_type": "execute_result"
    }
   ],
   "source": [
    "X_test = np.array(X_test).reshape(-1,1)\n",
    "X_test.flatten()"
   ]
  },
  {
   "cell_type": "code",
   "execution_count": 80,
   "id": "3221b58b-f216-4cfe-8374-c802fa24c087",
   "metadata": {
    "tags": []
   },
   "outputs": [
    {
     "data": {
      "text/html": [
       "<style>#sk-container-id-5 {color: black;}#sk-container-id-5 pre{padding: 0;}#sk-container-id-5 div.sk-toggleable {background-color: white;}#sk-container-id-5 label.sk-toggleable__label {cursor: pointer;display: block;width: 100%;margin-bottom: 0;padding: 0.3em;box-sizing: border-box;text-align: center;}#sk-container-id-5 label.sk-toggleable__label-arrow:before {content: \"▸\";float: left;margin-right: 0.25em;color: #696969;}#sk-container-id-5 label.sk-toggleable__label-arrow:hover:before {color: black;}#sk-container-id-5 div.sk-estimator:hover label.sk-toggleable__label-arrow:before {color: black;}#sk-container-id-5 div.sk-toggleable__content {max-height: 0;max-width: 0;overflow: hidden;text-align: left;background-color: #f0f8ff;}#sk-container-id-5 div.sk-toggleable__content pre {margin: 0.2em;color: black;border-radius: 0.25em;background-color: #f0f8ff;}#sk-container-id-5 input.sk-toggleable__control:checked~div.sk-toggleable__content {max-height: 200px;max-width: 100%;overflow: auto;}#sk-container-id-5 input.sk-toggleable__control:checked~label.sk-toggleable__label-arrow:before {content: \"▾\";}#sk-container-id-5 div.sk-estimator input.sk-toggleable__control:checked~label.sk-toggleable__label {background-color: #d4ebff;}#sk-container-id-5 div.sk-label input.sk-toggleable__control:checked~label.sk-toggleable__label {background-color: #d4ebff;}#sk-container-id-5 input.sk-hidden--visually {border: 0;clip: rect(1px 1px 1px 1px);clip: rect(1px, 1px, 1px, 1px);height: 1px;margin: -1px;overflow: hidden;padding: 0;position: absolute;width: 1px;}#sk-container-id-5 div.sk-estimator {font-family: monospace;background-color: #f0f8ff;border: 1px dotted black;border-radius: 0.25em;box-sizing: border-box;margin-bottom: 0.5em;}#sk-container-id-5 div.sk-estimator:hover {background-color: #d4ebff;}#sk-container-id-5 div.sk-parallel-item::after {content: \"\";width: 100%;border-bottom: 1px solid gray;flex-grow: 1;}#sk-container-id-5 div.sk-label:hover label.sk-toggleable__label {background-color: #d4ebff;}#sk-container-id-5 div.sk-serial::before {content: \"\";position: absolute;border-left: 1px solid gray;box-sizing: border-box;top: 0;bottom: 0;left: 50%;z-index: 0;}#sk-container-id-5 div.sk-serial {display: flex;flex-direction: column;align-items: center;background-color: white;padding-right: 0.2em;padding-left: 0.2em;position: relative;}#sk-container-id-5 div.sk-item {position: relative;z-index: 1;}#sk-container-id-5 div.sk-parallel {display: flex;align-items: stretch;justify-content: center;background-color: white;position: relative;}#sk-container-id-5 div.sk-item::before, #sk-container-id-5 div.sk-parallel-item::before {content: \"\";position: absolute;border-left: 1px solid gray;box-sizing: border-box;top: 0;bottom: 0;left: 50%;z-index: -1;}#sk-container-id-5 div.sk-parallel-item {display: flex;flex-direction: column;z-index: 1;position: relative;background-color: white;}#sk-container-id-5 div.sk-parallel-item:first-child::after {align-self: flex-end;width: 50%;}#sk-container-id-5 div.sk-parallel-item:last-child::after {align-self: flex-start;width: 50%;}#sk-container-id-5 div.sk-parallel-item:only-child::after {width: 0;}#sk-container-id-5 div.sk-dashed-wrapped {border: 1px dashed gray;margin: 0 0.4em 0.5em 0.4em;box-sizing: border-box;padding-bottom: 0.4em;background-color: white;}#sk-container-id-5 div.sk-label label {font-family: monospace;font-weight: bold;display: inline-block;line-height: 1.2em;}#sk-container-id-5 div.sk-label-container {text-align: center;}#sk-container-id-5 div.sk-container {/* jupyter's `normalize.less` sets `[hidden] { display: none; }` but bootstrap.min.css set `[hidden] { display: none !important; }` so we also need the `!important` here to be able to override the default hidden behavior on the sphinx rendered scikit-learn.org. See: https://github.com/scikit-learn/scikit-learn/issues/21755 */display: inline-block !important;position: relative;}#sk-container-id-5 div.sk-text-repr-fallback {display: none;}</style><div id=\"sk-container-id-5\" class=\"sk-top-container\"><div class=\"sk-text-repr-fallback\"><pre>LinearRegression()</pre><b>In a Jupyter environment, please rerun this cell to show the HTML representation or trust the notebook. <br />On GitHub, the HTML representation is unable to render, please try loading this page with nbviewer.org.</b></div><div class=\"sk-container\" hidden><div class=\"sk-item\"><div class=\"sk-estimator sk-toggleable\"><input class=\"sk-toggleable__control sk-hidden--visually\" id=\"sk-estimator-id-5\" type=\"checkbox\" checked><label for=\"sk-estimator-id-5\" class=\"sk-toggleable__label sk-toggleable__label-arrow\">LinearRegression</label><div class=\"sk-toggleable__content\"><pre>LinearRegression()</pre></div></div></div></div></div>"
      ],
      "text/plain": [
       "LinearRegression()"
      ]
     },
     "execution_count": 80,
     "metadata": {},
     "output_type": "execute_result"
    }
   ],
   "source": [
    "lr = LinearRegression()\n",
    "lr.fit( X_train, y_train)"
   ]
  },
  {
   "cell_type": "code",
   "execution_count": 81,
   "id": "7834d8fa-1223-4ff8-bdf5-306c86ff9506",
   "metadata": {
    "tags": []
   },
   "outputs": [
    {
     "data": {
      "text/plain": [
       "42.88289629775735"
      ]
     },
     "execution_count": 81,
     "metadata": {},
     "output_type": "execute_result"
    }
   ],
   "source": [
    "c=lr.intercept_\n",
    "c"
   ]
  },
  {
   "cell_type": "code",
   "execution_count": 82,
   "id": "e155386b-35ec-4b93-a0fc-33136e8ba4b1",
   "metadata": {
    "tags": []
   },
   "outputs": [
    {
     "data": {
      "text/plain": [
       "array([-0.25978378])"
      ]
     },
     "execution_count": 82,
     "metadata": {},
     "output_type": "execute_result"
    }
   ],
   "source": [
    "m= lr.coef_\n",
    "m"
   ]
  },
  {
   "cell_type": "code",
   "execution_count": 83,
   "id": "b4256e31-e204-4a18-9335-bef9ea8696e4",
   "metadata": {
    "tags": []
   },
   "outputs": [
    {
     "data": {
      "text/plain": [
       "array([31.50436662, 40.80462604, 41.03843144, 33.37480985, 40.93451793,\n",
       "       39.45375037, 38.9341828 , 38.64842064, 35.92069092, 39.63559901,\n",
       "       39.42777199, 38.49255037, 32.69937202, 40.02527469, 34.36198823,\n",
       "       38.07689632, 42.20745846, 38.67439902, 33.81644228, 39.03809631,\n",
       "       37.94700443, 41.81778279, 41.42810711, 41.27223685, 38.1028747 ,\n",
       "       35.97264768, 39.50570712, 34.72568552, 39.58364226, 40.36299361,\n",
       "       41.03843144, 40.20712334, 42.8828963 , 38.67439902, 34.93351255,\n",
       "       37.24558821, 39.68755577, 38.41461524, 38.62244226, 42.8828963 ,\n",
       "       42.62311252, 39.50570712, 37.60928551, 38.9341828 , 42.49322062,\n",
       "       39.27190172, 38.98613956, 37.68722064, 34.05024769, 42.33735035,\n",
       "       38.80429091, 41.84376117, 32.93317742, 36.95982605, 33.24491796,\n",
       "       38.18080983, 36.3103666 , 35.7128639 , 35.45308011, 41.11636658,\n",
       "       35.32318822, 38.57048551, 33.84242066, 35.27123147, 41.19430171,\n",
       "       34.31003147, 38.67439902, 41.81778279, 39.06407469, 39.5316855 ,\n",
       "       34.69970714, 41.16832333, 42.8828963 , 32.54350175, 39.42777199,\n",
       "       34.23209634, 38.98613956, 33.37480985, 33.9203558 , 34.25807471,\n",
       "       35.06340444, 39.86940442, 33.58263688, 33.84242066, 36.23243146,\n",
       "       42.8828963 , 34.88155579, 42.8828963 , 42.8828963 , 35.55699363,\n",
       "       40.18114496, 40.51886388, 34.82959904, 39.86940442, 34.46590174,\n",
       "       36.9078693 , 32.25773959, 40.67473415, 42.05158819, 38.62244226,\n",
       "       37.53135038, 39.63559901, 42.8828963 , 41.22028009, 39.34983685,\n",
       "       38.44059361, 35.50503687, 38.20678821, 34.98546931, 40.25908009,\n",
       "       39.76549091, 39.79146928, 34.69970714, 39.79146928, 39.37581523,\n",
       "       40.67473415, 34.1541612 , 41.63593414, 34.41394498, 38.7003774 ,\n",
       "       39.34983685, 41.53202063, 42.59713414, 42.8828963 , 39.27190172,\n",
       "       42.41528549, 40.77864766, 33.21893958, 40.85658279, 41.97365306,\n",
       "       40.20712334, 41.9216963 , 38.46657199, 39.34983685, 36.02460444,\n",
       "       40.85658279, 31.79012878, 32.88122067, 42.07756657, 41.24625847,\n",
       "       42.2853936 , 34.72568552, 41.66191252, 40.31103685, 39.24592334,\n",
       "       33.01111256, 39.19396658, 34.7516639 , 39.34983685, 40.80462604,\n",
       "       37.89504767, 39.06407469, 38.54450713, 32.56948013, 37.24558821,\n",
       "       34.69970714, 42.8828963 , 39.71353415, 39.92136118, 38.49255037,\n",
       "       38.15483145, 33.94633417, 42.38930711, 39.42777199, 35.84275579,\n",
       "       38.20678821, 37.53135038, 34.98546931, 38.49255037, 42.07756657,\n",
       "       39.42777199, 41.03843144, 33.9203558 , 35.08938282, 37.37548011,\n",
       "       41.89571792, 41.40212874, 39.71353415, 37.37548011, 38.20678821,\n",
       "       38.59646388, 42.18148008, 39.21994496, 32.46556661, 42.8828963 ,\n",
       "       42.36332873, 37.45341524, 38.85624767, 39.50570712, 39.27190172,\n",
       "       37.89504767, 36.64808551, 37.7391774 , 34.85557741, 33.68655039,\n",
       "       40.54484225, 40.80462604, 34.7516639 , 40.02527469, 38.62244226,\n",
       "       39.42777199, 39.47972875, 38.51852875, 39.5316855 , 37.11569632,\n",
       "       42.36332873, 42.59713414, 38.49255037, 41.58397738, 39.09005307,\n",
       "       38.75233415, 38.3366801 , 38.59646388, 41.81778279, 41.27223685,\n",
       "       41.94767468, 38.62244226, 38.3366801 , 37.89504767, 41.50604225,\n",
       "       33.5566585 , 33.03709094, 33.86839904, 38.36265848, 38.15483145,\n",
       "       40.18114496, 39.66157739, 41.84376117, 38.46657199, 38.57048551,\n",
       "       38.72635578, 41.84376117, 40.28505847, 38.41461524, 37.97298281,\n",
       "       32.15382607, 34.64775039, 38.3366801 , 42.23343684, 39.45375037,\n",
       "       34.90753417, 39.34983685, 42.8828963 , 35.79079903, 33.06306931,\n",
       "       42.20745846, 42.8828963 , 41.94767468, 32.88122067, 38.31070172,\n",
       "       38.15483145, 41.86973955, 34.64775039, 38.62244226, 33.19296121,\n",
       "       32.93317742, 38.31070172, 39.47972875, 37.89504767, 33.94633417,\n",
       "       35.60895038, 33.71252877, 35.01144768, 38.28472334, 42.8828963 ,\n",
       "       39.42777199, 37.81711254, 35.24525309, 39.81744766, 39.55766388,\n",
       "       38.88222605, 41.86973955, 40.51886388, 42.44126387, 34.54383687,\n",
       "       42.8828963 , 34.41394498, 39.32385848, 37.58330713, 38.83026929,\n",
       "       40.57082063, 39.45375037, 42.8828963 , 38.75233415, 41.53202063,\n",
       "       34.20611796, 39.14200983, 39.47972875, 33.89437742, 34.36198823,\n",
       "       38.7003774 , 34.49188012, 37.24558821, 41.76582603, 38.64842064,\n",
       "       37.99896118, 40.57082063, 40.70071252, 35.01144768, 36.59612876,\n",
       "       33.89437742, 39.5316855 , 41.35017198, 40.15516658, 40.7266909 ,\n",
       "       41.97365306, 37.92102605, 39.45375037, 38.12885308, 39.60962064,\n",
       "       34.18013958, 38.38863686, 38.62244226, 33.81644228, 35.19329633,\n",
       "       41.60995576, 41.42810711, 41.22028009, 34.07622607, 38.49255037,\n",
       "       34.56981525, 38.18080983, 39.34983685, 41.19430171, 41.71386928,\n",
       "       33.84242066, 33.66057201, 38.41461524, 40.07723145, 41.6878909 ,\n",
       "       42.59713414])"
      ]
     },
     "execution_count": 83,
     "metadata": {},
     "output_type": "execute_result"
    }
   ],
   "source": [
    "y_pred_train=m*X_train+c\n",
    "y_pred_train.flatten()"
   ]
  },
  {
   "cell_type": "code",
   "execution_count": 84,
   "id": "43544017-6648-4743-aee4-8b775315950f",
   "metadata": {
    "tags": []
   },
   "outputs": [
    {
     "data": {
      "text/plain": [
       "Text(0, 0.5, 'cost of the house')"
      ]
     },
     "execution_count": 84,
     "metadata": {},
     "output_type": "execute_result"
    },
    {
     "data": {
      "image/png": "[encoded data removed]",
      "text/plain": [
       "<Figure size 640x480 with 1 Axes>"
      ]
     },
     "metadata": {},
     "output_type": "display_data"
    }
   ],
   "source": [
    "plt.scatter(X_train,y_train)\n",
    "plt.plot(X_train,y_pred_train,color='red')\n",
    "plt.title('Relationship Between House Age and Cost of the House')\n",
    "plt.xlabel(\"house age\")\n",
    "plt.ylabel(\"cost of the house\")"
   ]
  },
  {
   "cell_type": "code",
   "execution_count": 85,
   "id": "a2f73e02-2ce7-411a-93f5-3f3048137362",
   "metadata": {
    "tags": []
   },
   "outputs": [
    {
     "data": {
      "text/plain": [
       "array([42.59713414, 39.45375037, 42.8828963 , 39.58364226, 37.63526389,\n",
       "       34.43992336, 38.75233415, 38.67439902, 34.59579363, 41.16832333,\n",
       "       36.3103666 , 41.84376117, 41.55799901, 34.64775039, 32.85524229,\n",
       "       39.06407469, 34.1541612 , 41.99963144, 38.38863686, 38.96016118,\n",
       "       34.85557741, 38.23276659, 41.48006387, 39.34983685, 39.37581523,\n",
       "       39.58364226, 38.67439902, 42.8828963 , 32.25773959, 32.15382607,\n",
       "       36.15449633, 41.55799901, 34.38796661, 38.20678821, 38.59646388,\n",
       "       33.08904769, 41.35017198, 39.32385848, 34.93351255, 32.1278477 ,\n",
       "       33.60861526, 37.34950173, 34.56981525, 38.83026929, 39.50570712,\n",
       "       40.31103685, 38.28472334, 39.21994496, 42.49322062, 34.33600985,\n",
       "       42.59713414, 41.89571792, 33.71252877, 35.73884228, 35.03742606,\n",
       "       39.2978801 , 33.50470174, 39.32385848, 37.55732875, 38.67439902,\n",
       "       40.90853955, 35.27123147, 39.2978801 , 35.89471254, 38.36265848,\n",
       "       38.25874497, 39.06407469, 37.24558821, 32.9591558 , 39.76549091,\n",
       "       39.45375037, 33.5566585 , 41.97365306, 40.77864766, 32.59545851,\n",
       "       38.28472334, 39.55766388, 36.9078693 , 35.19329633, 34.18013958,\n",
       "       38.7003774 , 38.83026929, 39.8953828 ])"
      ]
     },
     "execution_count": 85,
     "metadata": {},
     "output_type": "execute_result"
    }
   ],
   "source": [
    "y_pred_test=lr.predict(X_test)\n",
    "y_pred_test.flatten()"
   ]
  },
  {
   "cell_type": "code",
   "execution_count": 86,
   "id": "fc4b44f7-2bff-41be-a0ec-4b6cc765c4ca",
   "metadata": {
    "tags": []
   },
   "outputs": [
    {
     "data": {
      "text/plain": [
       "Text(0, 0.5, 'cost of the house')"
      ]
     },
     "execution_count": 86,
     "metadata": {},
     "output_type": "execute_result"
    },
    {
     "data": {
      "image/png": "[encoded data removed]",
      "text/plain": [
       "<Figure size 640x480 with 1 Axes>"
      ]
     },
     "metadata": {},
     "output_type": "display_data"
    }
   ],
   "source": [
    "plt.scatter(X_test,y_test)\n",
    "plt.plot(X_test,y_pred_test,color='red')\n",
    "plt.title('Relationship Between House Age and Cost of the House')\n",
    "plt.xlabel(\"house age\")\n",
    "plt.ylabel(\"cost of the house\")"
   ]
  },
  {
   "cell_type": "code",
   "execution_count": null,
   "id": "e2674066-f7c3-45a1-9815-a22104bae25c",
   "metadata": {},
   "outputs": [],
   "source": []
  }
 ],
 "metadata": {
  "kernelspec": {
   "display_name": "Python 3 (ipykernel)",
   "language": "python",
   "name": "python3"
  },
  "language_info": {
   "codemirror_mode": {
    "name": "ipython",
    "version": 3
   },
   "file_extension": ".py",
   "mimetype": "text/x-python",
   "name": "python",
   "nbconvert_exporter": "python",
   "pygments_lexer": "ipython3",
   "version": "3.11.5"
  }
 },
 "nbformat": 4,
 "nbformat_minor": 5
}
